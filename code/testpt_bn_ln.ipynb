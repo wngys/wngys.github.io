{
 "cells": [
  {
   "cell_type": "code",
   "execution_count": 1,
   "metadata": {},
   "outputs": [],
   "source": [
    "import torch\n",
    "import torch.nn as nn"
   ]
  },
  {
   "cell_type": "code",
   "execution_count": 6,
   "metadata": {},
   "outputs": [],
   "source": [
    "x = torch.arange(24, dtype= torch.float32).reshape(2, 3, 2, 2)"
   ]
  },
  {
   "cell_type": "code",
   "execution_count": 10,
   "metadata": {},
   "outputs": [],
   "source": [
    "ln1 = nn.LayerNorm((3, 2, 2))\n",
    "ln2 = nn.LayerNorm((2, 2))\n",
    "ln3 = nn.LayerNorm(2)"
   ]
  },
  {
   "cell_type": "code",
   "execution_count": 9,
   "metadata": {},
   "outputs": [],
   "source": [
    "y1, y2, y3 = ln1(x), ln2(x), ln3(x)"
   ]
  },
  {
   "cell_type": "code",
   "execution_count": 8,
   "metadata": {},
   "outputs": [
    {
     "data": {
      "text/plain": [
       "(tensor([[[[-1.5933, -1.3036],\n",
       "           [-1.0139, -0.7242]],\n",
       " \n",
       "          [[-0.4345, -0.1448],\n",
       "           [ 0.1448,  0.4345]],\n",
       " \n",
       "          [[ 0.7242,  1.0139],\n",
       "           [ 1.3036,  1.5933]]],\n",
       " \n",
       " \n",
       "         [[[-1.5933, -1.3036],\n",
       "           [-1.0139, -0.7242]],\n",
       " \n",
       "          [[-0.4345, -0.1448],\n",
       "           [ 0.1448,  0.4345]],\n",
       " \n",
       "          [[ 0.7242,  1.0139],\n",
       "           [ 1.3036,  1.5933]]]], grad_fn=<NativeLayerNormBackward>),\n",
       " tensor([[[[-1.3416, -0.4472],\n",
       "           [ 0.4472,  1.3416]],\n",
       " \n",
       "          [[-1.3416, -0.4472],\n",
       "           [ 0.4472,  1.3416]],\n",
       " \n",
       "          [[-1.3416, -0.4472],\n",
       "           [ 0.4472,  1.3416]]],\n",
       " \n",
       " \n",
       "         [[[-1.3416, -0.4472],\n",
       "           [ 0.4472,  1.3416]],\n",
       " \n",
       "          [[-1.3416, -0.4472],\n",
       "           [ 0.4472,  1.3416]],\n",
       " \n",
       "          [[-1.3416, -0.4472],\n",
       "           [ 0.4472,  1.3416]]]], grad_fn=<NativeLayerNormBackward>),\n",
       " tensor([[[[-1.0000,  1.0000],\n",
       "           [-1.0000,  1.0000]],\n",
       " \n",
       "          [[-1.0000,  1.0000],\n",
       "           [-1.0000,  1.0000]],\n",
       " \n",
       "          [[-1.0000,  1.0000],\n",
       "           [-1.0000,  1.0000]]],\n",
       " \n",
       " \n",
       "         [[[-1.0000,  1.0000],\n",
       "           [-1.0000,  1.0000]],\n",
       " \n",
       "          [[-1.0000,  1.0000],\n",
       "           [-1.0000,  1.0000]],\n",
       " \n",
       "          [[-1.0000,  1.0000],\n",
       "           [-1.0000,  1.0000]]]], grad_fn=<NativeLayerNormBackward>))"
      ]
     },
     "execution_count": 8,
     "metadata": {},
     "output_type": "execute_result"
    }
   ],
   "source": [
    "y1, y2, y3"
   ]
  },
  {
   "cell_type": "code",
   "execution_count": 13,
   "metadata": {},
   "outputs": [
    {
     "data": {
      "text/plain": [
       "tensor([[[[-1.6613, -1.5169],\n",
       "          [-1.3724, -1.2279]],\n",
       "\n",
       "         [[-1.0835, -0.9390],\n",
       "          [-0.7945, -0.6501]],\n",
       "\n",
       "         [[-0.5056, -0.3612],\n",
       "          [-0.2167, -0.0722]]],\n",
       "\n",
       "\n",
       "        [[[ 0.0722,  0.2167],\n",
       "          [ 0.3612,  0.5056]],\n",
       "\n",
       "         [[ 0.6501,  0.7945],\n",
       "          [ 0.9390,  1.0835]],\n",
       "\n",
       "         [[ 1.2279,  1.3724],\n",
       "          [ 1.5169,  1.6613]]]], grad_fn=<NativeLayerNormBackward>)"
      ]
     },
     "execution_count": 13,
     "metadata": {},
     "output_type": "execute_result"
    }
   ],
   "source": [
    "ln4 = nn.LayerNorm((2, 3, 2, 2))\n",
    "ln4(x)"
   ]
  },
  {
   "cell_type": "code",
   "execution_count": 40,
   "metadata": {},
   "outputs": [],
   "source": [
    "bn1 = nn.BatchNorm1d(4)\n",
    "\n",
    "bn2 = nn.BatchNorm2d(3)"
   ]
  },
  {
   "cell_type": "code",
   "execution_count": 38,
   "metadata": {},
   "outputs": [
    {
     "data": {
      "text/plain": [
       "(torch.Size([2, 3, 2, 2]),\n",
       " tensor([[[[-1.2288, -1.0650],\n",
       "           [-0.9012, -0.7373]],\n",
       " \n",
       "          [[-1.2288, -1.0650],\n",
       "           [-0.9012, -0.7373]],\n",
       " \n",
       "          [[-1.2288, -1.0650],\n",
       "           [-0.9012, -0.7373]]],\n",
       " \n",
       " \n",
       "         [[[ 0.7373,  0.9012],\n",
       "           [ 1.0650,  1.2288]],\n",
       " \n",
       "          [[ 0.7373,  0.9012],\n",
       "           [ 1.0650,  1.2288]],\n",
       " \n",
       "          [[ 0.7373,  0.9012],\n",
       "           [ 1.0650,  1.2288]]]], grad_fn=<NativeBatchNormBackward>))"
      ]
     },
     "execution_count": 38,
     "metadata": {},
     "output_type": "execute_result"
    }
   ],
   "source": [
    "x.shape, bn2(x)"
   ]
  },
  {
   "cell_type": "code",
   "execution_count": 51,
   "metadata": {},
   "outputs": [
    {
     "name": "stdout",
     "output_type": "stream",
     "text": [
      "torch.Size([4])\n",
      "tensor([ 7., 10., 13., 16.])\n",
      "torch.Size([4])\n",
      "tensor([ 7., 10., 13., 16.])\n",
      "torch.Size([4])\n"
     ]
    },
    {
     "data": {
      "text/plain": [
       "tensor([[[-1.0553, -0.9045, -0.7538],\n",
       "         [-1.0553, -0.9045, -0.7538],\n",
       "         [-1.0553, -0.9045, -0.7538],\n",
       "         [-1.0553, -0.9045, -0.7538]],\n",
       "\n",
       "        [[ 0.7538,  0.9045,  1.0553],\n",
       "         [ 0.7538,  0.9045,  1.0553],\n",
       "         [ 0.7538,  0.9045,  1.0553],\n",
       "         [ 0.7538,  0.9045,  1.0553]]])"
      ]
     },
     "execution_count": 51,
     "metadata": {},
     "output_type": "execute_result"
    }
   ],
   "source": [
    "x2 = torch.arange(24, dtype=torch.float32).reshape(2, 4, 3)\n",
    "# x2.shape[0]\n",
    "print(x2.mean((0, 2)).shape)\n",
    "print(x2.mean((0, 2)))\n",
    "meanV = x2.sum(-1).sum(0) / (x2.shape[0]*x2.shape[-1])\n",
    "print(meanV.shape)\n",
    "print(meanV)\n",
    "stdV = x2.std((0, 2))\n",
    "print(stdV.shape)\n",
    "(x2 - meanV.reshape(-1, 1)) / stdV.reshape(-1, 1)\n",
    "\n",
    "# x2, bn1(x2)\n"
   ]
  },
  {
   "cell_type": "code",
   "execution_count": 52,
   "metadata": {},
   "outputs": [
    {
     "name": "stdout",
     "output_type": "stream",
     "text": [
      "tensor([[[-1.1560, -0.9909, -0.8257],\n",
      "         [-1.1560, -0.9909, -0.8257],\n",
      "         [-1.1560, -0.9909, -0.8257],\n",
      "         [-1.1560, -0.9909, -0.8257]],\n",
      "\n",
      "        [[ 0.8257,  0.9909,  1.1560],\n",
      "         [ 0.8257,  0.9909,  1.1560],\n",
      "         [ 0.8257,  0.9909,  1.1560],\n",
      "         [ 0.8257,  0.9909,  1.1560]]], grad_fn=<NativeBatchNormBackward>)\n"
     ]
    }
   ],
   "source": [
    "print(bn1(x2))"
   ]
  }
 ],
 "metadata": {
  "kernelspec": {
   "display_name": "Python 3.8.0 64-bit",
   "language": "python",
   "name": "python3"
  },
  "language_info": {
   "codemirror_mode": {
    "name": "ipython",
    "version": 3
   },
   "file_extension": ".py",
   "mimetype": "text/x-python",
   "name": "python",
   "nbconvert_exporter": "python",
   "pygments_lexer": "ipython3",
   "version": "3.8.0"
  },
  "orig_nbformat": 4,
  "vscode": {
   "interpreter": {
    "hash": "c6a1b105445dd43cf13e24e1aba11c788b5233a9cf8909f18117b5bf5bc2049f"
   }
  }
 },
 "nbformat": 4,
 "nbformat_minor": 2
}
